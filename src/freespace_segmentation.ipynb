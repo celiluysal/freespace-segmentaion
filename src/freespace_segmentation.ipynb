{
 "cells": [
  {
   "cell_type": "markdown",
   "metadata": {},
   "source": [
    "In this project we are aimed to detect drivable area using semantic segmentation.\n"
   ]
  },
  {
   "cell_type": "markdown",
   "metadata": {},
   "source": [
    "We have json files and images as data. Firstly I need to convert json files to freespace mask image."
   ]
  },
  {
   "cell_type": "markdown",
   "metadata": {},
   "source": [
    "Define directories for the folder containing json files and for mask output folder."
   ]
  },
  {
   "cell_type": "code",
   "execution_count": 20,
   "metadata": {},
   "outputs": [],
   "source": [
    "import os, tqdm, json, cv2\n",
    "import numpy as np\n",
    "\n",
    "#JSON_DIR = '../data/jsons'\n",
    "#MASK_DIR  = '../data/masks'\n",
    "JSON_DIR = '../data/test_jsons'\n",
    "MASK_DIR  = '../data/test_masks'\n",
    "\n",
    "if not os.path.exists(MASK_DIR):\n",
    "    os.mkdir(MASK_DIR)"
   ]
  },
  {
   "cell_type": "markdown",
   "metadata": {},
   "source": [
    "Get json files names and sort them."
   ]
  },
  {
   "cell_type": "code",
   "execution_count": 21,
   "metadata": {
    "tags": []
   },
   "outputs": [],
   "source": [
    "json_list = os.listdir(JSON_DIR)\n",
    "json_list.sort()"
   ]
  },
  {
   "source": [
    "Read json files and convert them to dictionary. Get image sizes for create empty mask. Define mask path using directory and json file name. Image name and mask name will same.\n",
    "In a for loop find freespace class and get exterior points in list. Draw filled polygon on empty mask using points. Save mask in dictionary."
   ],
   "cell_type": "markdown",
   "metadata": {}
  },
  {
   "cell_type": "code",
   "execution_count": 22,
   "metadata": {},
   "outputs": [
    {
     "output_type": "stream",
     "name": "stderr",
     "text": [
      "100%|██████████| 476/476 [00:04<00:00, 110.24it/s]\n"
     ]
    }
   ],
   "source": [
    "for json_name in tqdm.tqdm(json_list):\n",
    "    json_path = os.path.join(JSON_DIR, json_name)\n",
    "    json_file = open(json_path, 'r')\n",
    "    json_dict = json.load(json_file)\n",
    "\n",
    "    mask = np.zeros((json_dict[\"size\"][\"height\"], json_dict[\"size\"][\"width\"]), dtype=np.uint8)\n",
    "    \n",
    "    mask_path = os.path.join(MASK_DIR, json_name[:-5])\n",
    "    \n",
    "    for obj in json_dict[\"objects\"]:\n",
    "        if obj['classTitle']=='Freespace':\n",
    "            mask = cv2.fillPoly(mask, np.array([obj['points']['exterior']]), color=1)\n",
    "            \n",
    "    cv2.imwrite(mask_path, mask.astype(np.uint8))"
   ]
  }
 ],
 "metadata": {
  "kernelspec": {
   "display_name": "Python 3",
   "language": "python",
   "name": "python3"
  },
  "language_info": {
   "codemirror_mode": {
    "name": "ipython",
    "version": 3
   },
   "file_extension": ".py",
   "mimetype": "text/x-python",
   "name": "python",
   "nbconvert_exporter": "python",
   "pygments_lexer": "ipython3",
   "version": "3.8.5-final"
  }
 },
 "nbformat": 4,
 "nbformat_minor": 4
}